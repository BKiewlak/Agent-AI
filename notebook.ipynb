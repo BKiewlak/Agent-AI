{
 "cells": [
  {
   "cell_type": "code",
   "execution_count": null,
   "metadata": {},
   "outputs": [],
   "source": [
    "from langchain_openai import ChatOpenAI \n",
    "from langgraph.graph import StateGraph, END, MessagesState \n",
    "from langgraph.prebuilt import ToolNode \n",
    "from langchain_core.messages import HumanMessage, SystemMessage\n",
    "from langchain_community.tools import TavilySearchResults \n",
    "from langchain_community.agent_toolkits.load_tools import load_tools\n",
    "import os\n",
    "import json\n",
    "\n",
    "os.environ['TAVILY_API_KEY'] = \"your_api_key\"\n",
    "os.environ['OPENAI_API_KEY'] = \"your_api_key\""
   ]
  },
  {
   "cell_type": "code",
   "execution_count": null,
   "metadata": {},
   "outputs": [],
   "source": [
    "\n",
    "search_tool = TavilySearchResults(max_results=10, \n",
    "                                  include_answer=True, \n",
    "                                  include_raw_content=False)\n",
    "\n",
    "human_tool = load_tools([\"human\"])[0]\n",
    "\n",
    "tools = [search_tool, human_tool]\n",
    "\n",
    "llm = ChatOpenAI(model=\"gpt-4o\", max_tokens=None).bind_tools(tools)"
   ]
  },
  {
   "cell_type": "code",
   "execution_count": null,
   "metadata": {},
   "outputs": [],
   "source": [
    "\n",
    "def should_continue(state: MessagesState):\n",
    "    messages = state[\"messages\"]\n",
    "    last_message = messages[-1]\n",
    "    if last_message.tool_calls:\n",
    "        return \"tools\"\n",
    "    return END\n"
   ]
  },
  {
   "cell_type": "code",
   "execution_count": null,
   "metadata": {},
   "outputs": [],
   "source": [
    "def gather_data(state: MessagesState):\n",
    "\n",
    "    messages = state[\"messages\"]\n",
    "\n",
    "    messages.append(SystemMessage(content='''\n",
    "    You are an assistant at a bank.\n",
    "    A customer has reported a problem. Your task is to collect customer data.\n",
    "    You must collect the following data:\n",
    "    ** Full name\n",
    "    ** Email address\n",
    "    ** Phone number\n",
    "\n",
    "    Use the TavilySearchResults tool to search for information.\n",
    "    Use HumanInputRun to ask the customer for their data and details about the problem.\n",
    "      \n",
    "    Respond in the following JSON format:\n",
    "    {{\"case_data\": enter all customer data and respond in text form here}}.\n",
    "    The response must not contain any other data –\n",
    "    only valid, processable JSON.\n",
    "    '''))\n",
    "\n",
    "    response = llm.invoke(messages)\n",
    "\n",
    "    \n",
    "    \n",
    "    print(json.dumps(response.tool_calls, indent=2,ensure_ascii=False))\n",
    "    print(json.dumps(response.content, indent=2,ensure_ascii=False))\n",
    "   \n",
    "    return {\"messages\": [response]}"
   ]
  },
  {
   "cell_type": "code",
   "execution_count": null,
   "metadata": {},
   "outputs": [],
   "source": [
    "tool_node = ToolNode(tools)\n",
    "workflow = StateGraph(MessagesState)\n",
    "\n",
    "\n",
    "workflow.add_node(\"gather_data_node\", gather_data)\n",
    "workflow.add_node(\"tools\", tool_node)\n",
    "\n",
    "workflow.set_entry_point(\"gather_data_node\")\n",
    "workflow.add_conditional_edges(\"gather_data_node\", \n",
    "                               should_continue, \n",
    "                               [\"tools\", END])\n",
    "\n",
    "workflow.add_edge(\"tools\", \"gather_data_node\")\n",
    "graph = workflow.compile()"
   ]
  },
  {
   "cell_type": "code",
   "execution_count": null,
   "metadata": {},
   "outputs": [],
   "source": [
    "prompt = \"\"\"\n",
    "    Here is the situation description provided by the customer:\n",
    "    \n",
    "    \"\"\"\n",
    "input_messages = [HumanMessage(prompt)]"
   ]
  }
 ],
 "metadata": {
  "kernelspec": {
   "display_name": "Python 3 (ipykernel)",
   "language": "python",
   "name": "python3"
  },
  "language_info": {
   "codemirror_mode": {
    "name": "ipython",
    "version": 3
   },
   "file_extension": ".py",
   "mimetype": "text/x-python",
   "name": "python",
   "nbconvert_exporter": "python",
   "pygments_lexer": "ipython3",
   "version": "3.13.2"
  }
 },
 "nbformat": 4,
 "nbformat_minor": 4
}
