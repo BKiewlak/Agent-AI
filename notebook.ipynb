{
 "cells": [
  {
   "cell_type": "code",
   "execution_count": null,
   "metadata": {},
   "outputs": [],
   "source": [
    "from langchain_openai import ChatOpenAI \n",
    "from langgraph.graph import StateGraph, END, MessagesState \n",
    "from langgraph.prebuilt import ToolNode \n",
    "from langchain_core.messages import HumanMessage, SystemMessage\n",
    "from langchain_community.tools import TavilySearchResults \n",
    "from langchain_community.agent_toolkits.load_tools import load_tools\n",
    "import os\n",
    "import json\n",
    "\n",
    "os.environ['TAVILY_API_KEY'] = \"your_api_key\"\n",
    "os.environ['OPENAI_API_KEY'] = \"your_api_key\""
   ]
  },
  {
   "cell_type": "code",
   "execution_count": 8,
   "metadata": {},
   "outputs": [],
   "source": [
    "#Tavily do wyszukiwania w Internecie\n",
    "search_tool = TavilySearchResults(max_results=10, \n",
    "                                  include_answer=True, \n",
    "                                  include_raw_content=False)\n",
    "#Human tool dla interakcji z użytkownikiem\n",
    "human_tool = load_tools([\"human\"])[0]\n",
    "\n",
    "tools = [search_tool, human_tool]\n",
    "#Chat-GPT 4o jako duży model językowy\n",
    "llm = ChatOpenAI(model=\"gpt-4o\", max_tokens=None).bind_tools(tools)"
   ]
  },
  {
   "cell_type": "code",
   "execution_count": 9,
   "metadata": {},
   "outputs": [],
   "source": [
    "# Funkcja, która określa, czy należy wywołać narzędzia,\n",
    "# czy wynik został już uzyskany.\n",
    "def should_continue(state: MessagesState):\n",
    "    messages = state[\"messages\"]\n",
    "    last_message = messages[-1]\n",
    "    if last_message.tool_calls:\n",
    "        return \"tools\"\n",
    "    return END\n"
   ]
  },
  {
   "cell_type": "code",
   "execution_count": 10,
   "metadata": {},
   "outputs": [],
   "source": [
    "def gather_data(state: MessagesState):\n",
    "\n",
    "    messages = state[\"messages\"]\n",
    "\n",
    "    messages.append(SystemMessage(content='''\n",
    "    Jesteś asystentem AI w pewnym banku odpowiedzialnym za zbieranie danych od użytkownika w celu dalszego przetwarzania zgłoszenia. \n",
    "    Klient zgłosił się z problemem. Twoim zadaniem jest zapamiętać wszystkie informacje podane przez użytkownika.\n",
    "\n",
    "    Musisz zebrać i zapamiętać następujące dane:\n",
    "    ** Imię i nazwisko\n",
    "    ** poczta elektroniczna\n",
    "    ** numer telefonu\n",
    "    Każdą z tych informacji zachowaj w pamięci systemu i użyj ich później do wygenerowania kompletnej odpowiedzi w formacie JSON. \n",
    "    Jeśli którejkolwiek z danych brakuje, poproś użytkownika o jej uzupełnienie.\n",
    "\n",
    "    Pamiętaj, aby nie zapomnieć wcześniej podanych informacji — nawet jeśli użytkownik poda je w kilku krokach.\n",
    "\n",
    "    Do wyszukiwania informacji użyj narzędzia TavilySearchResults.\n",
    "    Za pomocą HumanInputRun możesz dopytać klienta o jego dane oraz szczegóły dotyczące problemu.\n",
    "      \n",
    "    Odpowiedz w formacie JSON: \n",
    "    {{\"case_data\": wszystkie dane o kliencie zapisz formie tekstowej}}.\n",
    "    W odpowiedzi nie mogą znajdować się żadne inne dane – \n",
    "    tylko poprawny, możliwy do przetworzenia JSON.\n",
    "    '''))\n",
    "\n",
    "    response = llm.invoke(messages)\n",
    "\n",
    "    \n",
    "    \n",
    "    print(json.dumps(response.tool_calls, indent=2,ensure_ascii=False))\n",
    "    print(json.dumps(response.content, indent=2,ensure_ascii=False))\n",
    "   \n",
    "    return {\"messages\": [response]}"
   ]
  },
  {
   "cell_type": "code",
   "execution_count": 11,
   "metadata": {},
   "outputs": [],
   "source": [
    "tool_node = ToolNode(tools)\n",
    "workflow = StateGraph(MessagesState)\n",
    "\n",
    "\n",
    "workflow.add_node(\"gather_data_node\", gather_data)\n",
    "workflow.add_node(\"tools\", tool_node)\n",
    "\n",
    "workflow.set_entry_point(\"gather_data_node\")\n",
    "workflow.add_conditional_edges(\"gather_data_node\", \n",
    "                               should_continue, \n",
    "                               [\"tools\", END])\n",
    "\n",
    "workflow.add_edge(\"tools\", \"gather_data_node\")\n",
    "graph = workflow.compile()"
   ]
  },
  {
   "cell_type": "code",
   "execution_count": 12,
   "metadata": {},
   "outputs": [
    {
     "name": "stdout",
     "output_type": "stream",
     "text": [
      "[\n",
      "  {\n",
      "    \"name\": \"tavily_search_results_json\",\n",
      "    \"args\": {\n",
      "      \"query\": \"Co to jest PIT?\"\n",
      "    },\n",
      "    \"id\": \"call_1q287tAVT9QBsXMdYfXF2t6G\",\n",
      "    \"type\": \"tool_call\"\n",
      "  }\n",
      "]\n",
      "\"\"\n",
      "[]\n",
      "\"{\\\"case_data\\\":\\\"Klient: Bogdan Kiewlak, Adres email: example@email.com, Numer telefonu: +123456789, Zapytanie: Chciałbym dowiedzieć się co to jest PIT? Informacja: Podatek dochodowy od osób fizycznych, znany jako PIT, to podatek bezpośredni obejmujący dochody uzyskiwane przez osoby fizyczne. Jest to zarówno nazwa samego podatku, jak i dokumentu urzędowego, który podatnicy wypełniają i składają do odpowiedniego urzędu skarbowego, aby rozliczyć swoje dochody roczne. Podatek ten dotyczy różnych źródeł przychodu, w tym wynagrodzenia za pracę czy przychody z działalności gospodarczej.\\\"}\"\n"
     ]
    }
   ],
   "source": [
    "prompt = \"\"\"\n",
    "    Oto opis sytuacji przedstawiony przez klienta:\n",
    "    Chciałbym dowiedzieć się co to jest PIT?. Nazywam się Bogdan Kiewlak, adres email: example@email.com, numer telefonu: +123456789\n",
    "    \"\"\"\n",
    "input_messages = [HumanMessage(prompt)]\n",
    "output = graph.invoke({\"messages\": input_messages})"
   ]
  },
  {
   "cell_type": "code",
   "execution_count": null,
   "metadata": {},
   "outputs": [],
   "source": []
  }
 ],
 "metadata": {
  "kernelspec": {
   "display_name": "Python 3 (ipykernel)",
   "language": "python",
   "name": "python3"
  },
  "language_info": {
   "codemirror_mode": {
    "name": "ipython",
    "version": 3
   },
   "file_extension": ".py",
   "mimetype": "text/x-python",
   "name": "python",
   "nbconvert_exporter": "python",
   "pygments_lexer": "ipython3",
   "version": "3.13.2"
  }
 },
 "nbformat": 4,
 "nbformat_minor": 4
}
